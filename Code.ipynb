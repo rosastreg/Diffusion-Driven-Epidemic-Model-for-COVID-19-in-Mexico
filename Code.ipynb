{
 "cells": [
  {
   "attachments": {},
   "cell_type": "markdown",
   "metadata": {},
   "source": [
    "# Secuential Monte Carlo"
   ]
  },
  {
   "cell_type": "code",
   "execution_count": 5,
   "metadata": {},
   "outputs": [],
   "source": [
    "# Import all the needed packages\n",
    "import numpy as np"
   ]
  },
  {
   "cell_type": "code",
   "execution_count": 6,
   "metadata": {},
   "outputs": [],
   "source": [
    "def SIRD_tvp_model(y, theta_t):\n",
    "    # This is a function that defines the state transition dynamics for a time-varying-parameter SIRD model\n",
    "    \n",
    "    S, I, R, D = y\n",
    "    beta_t, gamma_t, mu_t = theta_t\n",
    "    \n",
    "    N = S + I + R + D\n",
    "    \n",
    "    # Define the differential equations for the state variables\n",
    "    dSdt = -beta_t * S * I / N\n",
    "    dIdt = beta_t * S * I / N - (gamma_t + mu_t) * I\n",
    "    dRdt = gamma_t * I\n",
    "    dDdt = mu_t * I\n",
    "    \n",
    "    # Return the updated state variables\n",
    "    return np.stack([S + dSdt, I + dIdt, R + dRdt, D + dDdt])"
   ]
  },
  {
   "cell_type": "code",
   "execution_count": null,
   "metadata": {},
   "outputs": [],
   "source": []
  }
 ],
 "metadata": {
  "kernelspec": {
   "display_name": "base",
   "language": "python",
   "name": "python3"
  },
  "language_info": {
   "codemirror_mode": {
    "name": "ipython",
    "version": 3
   },
   "file_extension": ".py",
   "mimetype": "text/x-python",
   "name": "python",
   "nbconvert_exporter": "python",
   "pygments_lexer": "ipython3",
   "version": "3.9.12"
  },
  "orig_nbformat": 4,
  "vscode": {
   "interpreter": {
    "hash": "cb919c9929c5dd476cc90a94ba0baf6a00a4d2e9b261921e723bd8b1873cf69a"
   }
  }
 },
 "nbformat": 4,
 "nbformat_minor": 2
}
