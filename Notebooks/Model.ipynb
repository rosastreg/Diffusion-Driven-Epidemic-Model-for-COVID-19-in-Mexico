{
 "cells": [
  {
   "cell_type": "markdown",
   "metadata": {},
   "source": [
    "# Particle MCMC model for COVID-19 in Mexico\n",
    "\n",
    "This notebook contains all of the Python code needed to use Particle Marginal Markov Chain Monte Carlo to explore the parameter space of our diffusion driven model and estimate the trajectories of the hidden states"
   ]
  },
  {
   "cell_type": "code",
   "execution_count": 11,
   "metadata": {},
   "outputs": [],
   "source": [
    "# Import all necesary libraries\n",
    "import pandas as pd\n",
    "import numpy as np\n",
    "import scipy.stats as stats\n",
    "import matplotlib.pyplot as plt\n",
    "import seaborn as sns"
   ]
  },
  {
   "cell_type": "code",
   "execution_count": 651,
   "metadata": {},
   "outputs": [
    {
     "data": {
      "text/html": [
       "<div>\n",
       "<style scoped>\n",
       "    .dataframe tbody tr th:only-of-type {\n",
       "        vertical-align: middle;\n",
       "    }\n",
       "\n",
       "    .dataframe tbody tr th {\n",
       "        vertical-align: top;\n",
       "    }\n",
       "\n",
       "    .dataframe thead th {\n",
       "        text-align: right;\n",
       "    }\n",
       "</style>\n",
       "<table border=\"1\" class=\"dataframe\">\n",
       "  <thead>\n",
       "    <tr style=\"text-align: right;\">\n",
       "      <th></th>\n",
       "      <th>date</th>\n",
       "      <th>confirmed_cases</th>\n",
       "      <th>confirmed_deaths</th>\n",
       "    </tr>\n",
       "  </thead>\n",
       "  <tbody>\n",
       "    <tr>\n",
       "      <th>0</th>\n",
       "      <td>2020-02-23</td>\n",
       "      <td>4.0</td>\n",
       "      <td>0.0</td>\n",
       "    </tr>\n",
       "    <tr>\n",
       "      <th>1</th>\n",
       "      <td>2020-03-01</td>\n",
       "      <td>23.0</td>\n",
       "      <td>0.0</td>\n",
       "    </tr>\n",
       "    <tr>\n",
       "      <th>2</th>\n",
       "      <td>2020-03-08</td>\n",
       "      <td>131.0</td>\n",
       "      <td>0.0</td>\n",
       "    </tr>\n",
       "    <tr>\n",
       "      <th>3</th>\n",
       "      <td>2020-03-15</td>\n",
       "      <td>624.0</td>\n",
       "      <td>0.0</td>\n",
       "    </tr>\n",
       "    <tr>\n",
       "      <th>4</th>\n",
       "      <td>2020-03-22</td>\n",
       "      <td>1152.0</td>\n",
       "      <td>6.0</td>\n",
       "    </tr>\n",
       "  </tbody>\n",
       "</table>\n",
       "</div>"
      ],
      "text/plain": [
       "        date  confirmed_cases  confirmed_deaths\n",
       "0 2020-02-23              4.0               0.0\n",
       "1 2020-03-01             23.0               0.0\n",
       "2 2020-03-08            131.0               0.0\n",
       "3 2020-03-15            624.0               0.0\n",
       "4 2020-03-22           1152.0               6.0"
      ]
     },
     "execution_count": 651,
     "metadata": {},
     "output_type": "execute_result"
    }
   ],
   "source": [
    "data = pd.read_feather('/Users/ro/Desktop/Undergrad_AM_Thesis/Data/covid_df.feather')\n",
    "weekly_covid_df = data.groupby([pd.Grouper(key='date', freq='W-SUN')]).agg({\n",
    "    'confirmed_cases': 'sum',\n",
    "    'confirmed_deaths': 'sum'\n",
    "}).reset_index()\n",
    "weekly_covid_df.head()"
   ]
  },
  {
   "cell_type": "code",
   "execution_count": 652,
   "metadata": {},
   "outputs": [
    {
     "name": "stdout",
     "output_type": "stream",
     "text": [
      "Total Population:  126014024\n",
      "0.1% of Population:  126014\n"
     ]
    }
   ],
   "source": [
    "pop = pd.read_feather('/Users/ro/Desktop/Undergrad_AM_Thesis/Data/INEGI_2020_State_Population.feather')\n",
    "N = pop['population'].sum()\n",
    "print('Total Population: ', N)\n",
    "print('0.1% of Population: ', np.round(0.001*N).astype(int))\n"
   ]
  },
  {
   "cell_type": "code",
   "execution_count": 997,
   "metadata": {},
   "outputs": [],
   "source": [
    "# Deifine prior for each parameter\n",
    "\n",
    "def generate_prior_alpha():\n",
    "    return stats.beta(2.3, 96.5).rvs()\n",
    "\n",
    "def generate_prior_rho():\n",
    "    return stats.beta(7.2, 0.8).rvs()\n",
    "\n",
    "def generate_prior_nu():\n",
    "    return stats.beta(6.9, 14.1).rvs()\n",
    "\n",
    "def generate_prior_gamma():\n",
    "    return stats.beta(2.36, 9.44).rvs()\n",
    "\n",
    "def generate_prior_sigma_b():\n",
    "    return stats.invgamma(a=3.8, scale=0.6).rvs()\n",
    "\n",
    "def generate_prior_sigma_m():\n",
    "    return stats.invgamma(a=3.8, scale=0.6).rvs()\n"
   ]
  },
  {
   "cell_type": "code",
   "execution_count": 1140,
   "metadata": {},
   "outputs": [],
   "source": [
    "# Initial Value Conditions Prior\n",
    "def set_IVC(N, rho, nu, num_particles):\n",
    "    R = np.zeros(num_particles)\n",
    "    D = np.zeros(num_particles)\n",
    "    E = np.round(stats.uniform(0, np.round(0.001 * N).astype(int)).rvs(num_particles))\n",
    "    U = np.round(stats.uniform(0, np.round((1 - rho) * nu * E).astype(int)).rvs(num_particles))\n",
    "    O = np.round(stats.uniform(0, np.round(rho * nu * E).astype(int)).rvs(num_particles))\n",
    "    E -=  U + O \n",
    "    S = N - E - U - O\n",
    "    \n",
    "    beta = stats.uniform(0,1).rvs(num_particles)\n",
    "    mu = stats.uniform(0,1).rvs(num_particles)\n",
    "    \n",
    "    return np.vstack([S, E, U, O, R, D, np.log(beta), np.log(mu)])\n",
    "\n",
    "def set_param_priors():\n",
    "    alpha = stats.beta(2.3, 96.5).rvs()\n",
    "    rho = stats.beta(7.2, 0.8).rvs()\n",
    "    nu = stats.beta(6.9, 14.1).rvs()\n",
    "    gamma = stats.beta(2.36, 9.44).rvs()\n",
    "    sigma_b = stats.invgamma(a=3.8, scale=0.6).rvs()\n",
    "    sigma_m = stats.invgamma(a=3.8, scale=0.6).rvs()\n",
    "    psi_o = stats.gamma(50,scale=100).rvs()\n",
    "    psi_d = stats.gamma(50,scale=100).rvs()\n",
    "    \n",
    "    return [alpha, rho, nu, gamma, sigma_b, sigma_m, psi_o, psi_d]\n",
    "    "
   ]
  },
  {
   "cell_type": "code",
   "execution_count": null,
   "metadata": {},
   "outputs": [],
   "source": [
    "T = 50*7\n",
    "h = 0.5\n",
    "num_steps = int(T / h)\n",
    "num_particles=1\n",
    "\n",
    "# Initialize arrays to store results\n",
    "time = np.linspace(0, T, num_steps)\n",
    "X = np.zeros([8,num_particles,num_steps])\n",
    "\n",
    "# Set initial conditions\n",
    "alpha, rho, nu, gamma, sigma_b, sigma_m, psi_o, psi_d = set_param_priors()\n",
    "X[:,:,0] = set_IVC(N, rho, nu, num_particles)\n",
    "\n",
    "\n",
    "beta[0] = np.log(X[6,:,0])\n",
    "\n",
    "\n",
    "# Simulate the SIR model with stochastic beta using Euler-Maruyama method\n",
    "for t in range(1, num_steps):\n",
    "# Update the SIR compartments using Euler's method with the updated beta_t\n",
    "S[t] = S[t-1] + - beta[t-1] * (S[t-1] * I[t-1] / N) * h\n",
    "I[t] = I[t-1] + (beta[t-1] * (S[t-1] * I[t-1] / N) - gamma * I[t-1]) * h\n",
    "R[t] = R[t-1] + gamma * I[t-1] * h \n",
    "\n",
    "# Sample Brownian increment\n",
    "dB = stats.norm().rvs(1)[0]\n",
    "\n",
    "# Update X using Euler-Maruyama method\n",
    "X[t] = X[t-1] + sigma * np.sqrt(h) * dB\n",
    "\n",
    "# Update beta (infection rate) as a log-transformation of X\n",
    "beta[t] = np.log(X[t])"
   ]
  },
  {
   "cell_type": "code",
   "execution_count": null,
   "metadata": {},
   "outputs": [],
   "source": []
  }
 ],
 "metadata": {
  "kernelspec": {
   "display_name": "codigosTesis",
   "language": "python",
   "name": "python3"
  },
  "language_info": {
   "codemirror_mode": {
    "name": "ipython",
    "version": 3
   },
   "file_extension": ".py",
   "mimetype": "text/x-python",
   "name": "python",
   "nbconvert_exporter": "python",
   "pygments_lexer": "ipython3",
   "version": "3.9.19"
  }
 },
 "nbformat": 4,
 "nbformat_minor": 2
}
